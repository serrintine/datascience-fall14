{
 "metadata": {
  "name": ""
 },
 "nbformat": 3,
 "nbformat_minor": 0,
 "worksheets": [
  {
   "cells": [
    {
     "cell_type": "heading",
     "level": 1,
     "metadata": {},
     "source": [
      "Exercise 1"
     ]
    },
    {
     "cell_type": "code",
     "collapsed": false,
     "input": [
      "from sklearn.datasets import load_boston\n",
      "boston = load_boston()"
     ],
     "language": "python",
     "metadata": {},
     "outputs": [],
     "prompt_number": 1
    },
    {
     "cell_type": "code",
     "collapsed": false,
     "input": [
      "boston.keys()"
     ],
     "language": "python",
     "metadata": {},
     "outputs": [
      {
       "metadata": {},
       "output_type": "pyout",
       "prompt_number": 2,
       "text": [
        "['data', 'feature_names', 'DESCR', 'target']"
       ]
      }
     ],
     "prompt_number": 2
    },
    {
     "cell_type": "code",
     "collapsed": false,
     "input": [
      "# Printing the number of samples and features\n",
      "n_samples, n_features = boston.data.shape\n",
      "print 'Number of samples = ', n_samples\n",
      "print 'Number of features = ', n_features"
     ],
     "language": "python",
     "metadata": {},
     "outputs": [
      {
       "output_type": "stream",
       "stream": "stdout",
       "text": [
        "Number of samples =  506\n",
        "Number of features =  13\n"
       ]
      }
     ],
     "prompt_number": 3
    },
    {
     "cell_type": "code",
     "collapsed": false,
     "input": [
      "# Printing 5 features and descriptions\n",
      "print 'CRIM     per capita crime rate by town'\n",
      "print 'INDUS    proportion of non-retail business acres per town'\n",
      "print 'NOX      nitric oxides concentration (parts per 10 million)'\n",
      "print 'AGE      proportion of owner-occupied units built prior to 1940'\n",
      "print 'DIS      weighted distances to five Boston employment centres'"
     ],
     "language": "python",
     "metadata": {},
     "outputs": [
      {
       "output_type": "stream",
       "stream": "stdout",
       "text": [
        "CRIM     per capita crime rate by town\n",
        "INDUS    proportion of non-retail business acres per town\n",
        "NOX      nitric oxides concentration (parts per 10 million)\n",
        "AGE      proportion of owner-occupied units built prior to 1940\n",
        "DIS      weighted distances to five Boston employment centres\n"
       ]
      }
     ],
     "prompt_number": 34
    },
    {
     "cell_type": "code",
     "collapsed": false,
     "input": [
      "# Start pylab inline mode\n",
      "%pylab inline\n",
      "\n",
      "import matplotlib.pyplot as plt"
     ],
     "language": "python",
     "metadata": {},
     "outputs": [
      {
       "output_type": "stream",
       "stream": "stdout",
       "text": [
        "Populating the interactive namespace from numpy and matplotlib\n"
       ]
      }
     ],
     "prompt_number": 27
    },
    {
     "cell_type": "code",
     "collapsed": false,
     "input": [
      "# scatter plot\n",
      "x_temp = boston.data[:, np.newaxis]\n",
      "x = x_temp[:,:,0]\n",
      "y = boston.target\n",
      "plt.scatter(x,y)\n",
      "plt.xlabel('CRIM: per capita crime rate by town')\n",
      "plt.ylabel('House price')\n",
      "plt.title('House Price vs Crime Rate')"
     ],
     "language": "python",
     "metadata": {},
     "outputs": [
      {
       "metadata": {},
       "output_type": "pyout",
       "prompt_number": 40,
       "text": [
        "<matplotlib.text.Text at 0xb05cd36c>"
       ]
      },
      {
       "metadata": {},
       "output_type": "display_data",
       "png": "[encoded data removed]",
       "text": [
        "<matplotlib.figure.Figure at 0xb0651ccc>"
       ]
      }
     ],
     "prompt_number": 40
    },
    {
     "cell_type": "heading",
     "level": 1,
     "metadata": {},
     "source": [
      "Exercise 2.1"
     ]
    },
    {
     "cell_type": "code",
     "collapsed": false,
     "input": [
      "# Import linear regression and the diabetes dataset\n",
      "from sklearn.linear_model import LinearRegression\n",
      "from sklearn.datasets import load_diabetes\n",
      "\n",
      "# Load the diabetes dataset\n",
      "diabetes = load_diabetes()"
     ],
     "language": "python",
     "metadata": {},
     "outputs": [],
     "prompt_number": 41
    },
    {
     "cell_type": "code",
     "collapsed": false,
     "input": [
      "# Split the data into training/testing sets\n",
      "diabetes_X_train = diabetes.data[:-20]\n",
      "diabetes_X_test = diabetes.data[-20:]\n",
      "\n",
      "# Split the targets into training/testing sets\n",
      "diabetes_y_train = diabetes.target[:-20]\n",
      "diabetes_y_test = diabetes.target[-20:]\n",
      "\n",
      "# Create linear regression object\n",
      "regr = LinearRegression()\n",
      "\n",
      "# Train the model using the training sets\n",
      "regr.fit(diabetes_X_train, diabetes_y_train)"
     ],
     "language": "python",
     "metadata": {},
     "outputs": [
      {
       "metadata": {},
       "output_type": "pyout",
       "prompt_number": 125,
       "text": [
        "LinearRegression(copy_X=True, fit_intercept=True, normalize=False)"
       ]
      }
     ],
     "prompt_number": 125
    },
    {
     "cell_type": "code",
     "collapsed": false,
     "input": [
      "# The mean square error\n",
      "print(\"Residual sum of squares: %.2f\"\n",
      "      % np.mean((regr.predict(diabetes_X_test) - diabetes_y_test) ** 2))"
     ],
     "language": "python",
     "metadata": {},
     "outputs": [
      {
       "output_type": "stream",
       "stream": "stdout",
       "text": [
        "Residual sum of squares: 2004.57\n"
       ]
      }
     ],
     "prompt_number": 70
    },
    {
     "cell_type": "markdown",
     "metadata": {},
     "source": [
      "          Using all features gives a lower residual sum of squares, so the estimator's performance is better according to\n",
      "          that metric at least."
     ]
    },
    {
     "cell_type": "heading",
     "level": 1,
     "metadata": {},
     "source": [
      "Exercise 2.2"
     ]
    },
    {
     "cell_type": "code",
     "collapsed": false,
     "input": [
      "# Import recursive feature elimination\n",
      "from sklearn.feature_selection import RFE\n",
      "\n",
      "# Create the RFE object using two features and rank the features for the diabetes datasets\n",
      "rfe = RFE(estimator=regr, n_features_to_select=2, step=1)\n",
      "rfe.fit(diabetes_X_train,diabetes_y_train)\n",
      "print rfe.ranking_"
     ],
     "language": "python",
     "metadata": {},
     "outputs": [
      {
       "output_type": "stream",
       "stream": "stdout",
       "text": [
        "[9 5 1 4 2 3 7 6 1 8]\n"
       ]
      }
     ],
     "prompt_number": 126
    },
    {
     "cell_type": "code",
     "collapsed": false,
     "input": [
      "# Use only one feature -- the following code creates a 1-dimensional \n",
      "# array containing just the second feature\n",
      "diabetes_X_temp = diabetes.data[:,[2.8]]\n",
      "\n",
      "# Split the data into training/testing sets -- we will use all but last 20 elements for training\n",
      "diabetes_X_train = diabetes_X_temp[:-20]\n",
      "diabetes_X_test = diabetes_X_temp[-20:]\n",
      "\n",
      "# Create linear regression object\n",
      "regr = LinearRegression()\n",
      "\n",
      "# Train the model using the training sets\n",
      "regr.fit(diabetes_X_train, diabetes_y_train)"
     ],
     "language": "python",
     "metadata": {},
     "outputs": [
      {
       "metadata": {},
       "output_type": "pyout",
       "prompt_number": 127,
       "text": [
        "LinearRegression(copy_X=True, fit_intercept=True, normalize=False)"
       ]
      }
     ],
     "prompt_number": 127
    },
    {
     "cell_type": "code",
     "collapsed": false,
     "input": [
      "# The mean square error\n",
      "print(\"Residual sum of squares: %.2f\"\n",
      "      % np.mean((regr.predict(diabetes_X_test) - diabetes_y_test) ** 2))"
     ],
     "language": "python",
     "metadata": {},
     "outputs": [
      {
       "output_type": "stream",
       "stream": "stdout",
       "text": [
        "Residual sum of squares: 2548.07\n"
       ]
      }
     ],
     "prompt_number": 128
    },
    {
     "cell_type": "markdown",
     "metadata": {},
     "source": [
      "          Using just two features produces a residual sum of squares that is higher than using all features.\n",
      "          It seems that a more complex model usually fits the data better."
     ]
    },
    {
     "cell_type": "code",
     "collapsed": false,
     "input": [
      "num_features = [1, 2, 3, 4, 5, 6, 7, 8, 9, 10]\n",
      "rss = []\n",
      "for i in num_features:\n",
      "    diabetes_X_train = diabetes.data[:-20]\n",
      "    diabetes_X_test = diabetes.data[-20:]\n",
      "    \n",
      "    rfe = RFE(estimator=regr, n_features_to_select=i, step=1)\n",
      "    rfe.fit(diabetes_X_train,diabetes_y_train)\n",
      "    \n",
      "    print rfe.ranking_"
     ],
     "language": "python",
     "metadata": {},
     "outputs": [
      {
       "output_type": "stream",
       "stream": "stdout",
       "text": [
        "[10  6  1  5  3  4  8  7  2  9]\n",
        "[9 5 1 4 2 3 7 6 1 8]\n",
        "[8 4 1 3 1 2 6 5 1 7]\n",
        "[7 3 1 2 1 1 5 4 1 6]\n",
        "[6 2 1 1 1 1 4 3 1 5]\n",
        "[5 1 1 1 1 1 3 2 1 4]"
       ]
      },
      {
       "output_type": "stream",
       "stream": "stdout",
       "text": [
        "\n",
        "[4 1 1 1 1 1 2 1 1 3]\n",
        "[3 1 1 1 1 1 1 1 1 2]\n",
        "[2 1 1 1 1 1 1 1 1 1]\n",
        "[1 1 1 1 1 1 1 1 1 1]\n"
       ]
      }
     ],
     "prompt_number": 129
    },
    {
     "cell_type": "code",
     "collapsed": false,
     "input": [
      "selection = [[2],[2,8],[2,4,8],[2,4,5,8],[2,3,4,5,8],[1,2,3,4,5,8],[1,2,3,4,5,7,8],[1,2,3,4,5,6,7,8],[1,2,3,4,5,6,7,8,9],[0,1,2,3,4,5,6,7,8,9]]\n",
      "rss = []\n",
      "\n",
      "for row in selection:\n",
      "    diabetes_X_temp = diabetes.data[:,row]\n",
      "    diabetes_X_train = diabetes_X_temp[:-20]\n",
      "    diabetes_X_test = diabetes_X_temp[-20:]\n",
      "\n",
      "    regr = LinearRegression()\n",
      "    regr.fit(diabetes_X_train, diabetes_y_train)\n",
      "    \n",
      "    rss = np.append(rss, np.mean((regr.predict(diabetes_X_test) - diabetes_y_test) ** 2))\n",
      "    \n",
      "plt.scatter(num_features, rss) \n",
      "plt.xlabel('Number of features selected')\n",
      "plt.ylabel('Residual sum of squares')\n",
      "plt.title('Residual Sum of Squares vs Number of Features')"
     ],
     "language": "python",
     "metadata": {},
     "outputs": [
      {
       "metadata": {},
       "output_type": "pyout",
       "prompt_number": 131,
       "text": [
        "<matplotlib.text.Text at 0xafeea64c>"
       ]
      },
      {
       "metadata": {},
       "output_type": "display_data",
       "png": "[encoded data removed]",
       "text": [
        "<matplotlib.figure.Figure at 0xb05b31cc>"
       ]
      }
     ],
     "prompt_number": 131
    },
    {
     "cell_type": "markdown",
     "metadata": {},
     "source": [
      "           The optimal number of features to use is 3, according to the above plot."
     ]
    },
    {
     "cell_type": "heading",
     "level": 1,
     "metadata": {},
     "source": [
      "Exercixe 3.1"
     ]
    },
    {
     "cell_type": "code",
     "collapsed": false,
     "input": [],
     "language": "python",
     "metadata": {},
     "outputs": []
    }
   ],
   "metadata": {}
  }
 ]
}