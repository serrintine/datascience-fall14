{
 "metadata": {
  "name": ""
 },
 "nbformat": 3,
 "nbformat_minor": 0,
 "worksheets": [
  {
   "cells": [
    {
     "cell_type": "code",
     "collapsed": false,
     "input": [
      "import pandas as pd\n",
      "import numpy as np\n",
      "import matplotlib.pyplot as plt\n",
      "%pylab inline"
     ],
     "language": "python",
     "metadata": {},
     "outputs": [
      {
       "output_type": "stream",
       "stream": "stdout",
       "text": [
        "Populating the interactive namespace from numpy and matplotlib\n"
       ]
      }
     ],
     "prompt_number": 1
    },
    {
     "cell_type": "code",
     "collapsed": false,
     "input": [
      "players = pd.read_csv('players.csv')\n",
      "countries = pd.read_csv('countries.csv')\n",
      "events = pd.read_csv('events.csv')"
     ],
     "language": "python",
     "metadata": {},
     "outputs": [],
     "prompt_number": 2
    },
    {
     "cell_type": "code",
     "collapsed": false,
     "input": [
      "players['name'].str.extract('(^[AEOIU])').count()"
     ],
     "language": "python",
     "metadata": {},
     "outputs": [
      {
       "metadata": {},
       "output_type": "pyout",
       "prompt_number": 3,
       "text": [
        "84"
       ]
      }
     ],
     "prompt_number": 3
    },
    {
     "cell_type": "code",
     "collapsed": false,
     "input": [
      "join = pd.merge(players, countries, on='country_id')\n",
      "usa = join[join['country_id']=='USA']\n",
      "names = usa[usa['name_x'].str.contains('^A')]\n",
      "names['name_x']"
     ],
     "language": "python",
     "metadata": {},
     "outputs": [
      {
       "metadata": {},
       "output_type": "pyout",
       "prompt_number": 4,
       "text": [
        "12    Aaron Peirsol                           \n",
        "13    Adam Nelson                             \n",
        "14    Allyson Felix                           \n",
        "15    Alvin Harrison                          \n",
        "16    Amanda Beard                            \n",
        "17    Amanda Weir                             \n",
        "18    Amy van Dyken                           \n",
        "19    Angelo Taylor                           \n",
        "20    Anthony Ervin                           \n",
        "21    Antonio Pettigrew                       \n",
        "Name: name_x, dtype: object"
       ]
      }
     ],
     "prompt_number": 4
    },
    {
     "cell_type": "code",
     "collapsed": false,
     "input": [
      "join.groupby('name_y')['name_x'].size()"
     ],
     "language": "python",
     "metadata": {},
     "outputs": [
      {
       "metadata": {},
       "output_type": "pyout",
       "prompt_number": 5,
       "text": [
        "name_y\n",
        "Algeria                                      4\n",
        "Argentina                                    1\n",
        "Australia                                   34\n",
        "Austria                                      2\n",
        "Barbados                                     1\n",
        "Belarus                                      7\n",
        "Brazil                                       9\n",
        "Bulgaria                                     1\n",
        "Cameroon                                     1\n",
        "Canada                                       1\n",
        "China                                        8\n",
        "Costa Rica                                   1\n",
        "Croatia                                      1\n",
        "Cuba                                        12\n",
        "Czech Republic                               3\n",
        "Denmark                                      2\n",
        "Dominican Republic                           1\n",
        "Eritrea                                      1\n",
        "Estonia                                      2\n",
        "Ethiopia                                    12\n",
        "Finland                                      1\n",
        "France                                      10\n",
        "Germany                                     22\n",
        "Greece                                       7\n",
        "Hungary                                      4\n",
        "Iceland                                      1\n",
        "Ireland                                      1\n",
        "Italy                                       12\n",
        "Jamaica                                     18\n",
        "Japan                                       16\n",
        "Kazakhstan                                   2\n",
        "Kenya                                       13\n",
        "Latvia                                       2\n",
        "Lithuania                                    2\n",
        "Mexico                                       3\n",
        "Morocco                                      5\n",
        "Mozambique                                   1\n",
        "Netherlands                                 13\n",
        "Nigeria                                     12\n",
        "Norway                                       3\n",
        "Poland                                       5\n",
        "Portugal                                     3\n",
        "Romania                                     10\n",
        "Russia                                      38\n",
        "Saudi Arabia                                 1\n",
        "Slovakia                                     1\n",
        "Slovenia                                     1\n",
        "South Africa                                10\n",
        "Spain                                        4\n",
        "Sri Lanka                                    1\n",
        "Sweden                                       9\n",
        "The Bahamas                                  5\n",
        "Trinidad and Tobago                          2\n",
        "Turkey                                       1\n",
        "Ukraine                                      9\n",
        "United Kingdom                              12\n",
        "United States                               88\n",
        "Zimbabwe                                     1\n",
        "Length: 58, dtype: int64"
       ]
      }
     ],
     "prompt_number": 5
    },
    {
     "cell_type": "code",
     "collapsed": false,
     "input": [
      "players1975 = players[players['birthdate'].str.extract('(1975)')=='1975']\n",
      "join = pd.merge(countries, players1975, how='outer', on='country_id')\n",
      "join.groupby('name_x')['name_y'].count()"
     ],
     "language": "python",
     "metadata": {},
     "outputs": [
      {
       "metadata": {},
       "output_type": "pyout",
       "prompt_number": 6,
       "text": [
        "name_x\n",
        "Algeria                                     0\n",
        "Argentina                                   0\n",
        "Australia                                   3\n",
        "Austria                                     0\n",
        "Barbados                                    0\n",
        "Belarus                                     1\n",
        "Brazil                                      1\n",
        "Bulgaria                                    0\n",
        "Cameroon                                    0\n",
        "Canada                                      0\n",
        "China                                       0\n",
        "Costa Rica                                  0\n",
        "Croatia                                     0\n",
        "Cuba                                        1\n",
        "Czech Republic                              1\n",
        "Denmark                                     1\n",
        "Dominican Republic                          0\n",
        "Eritrea                                     1\n",
        "Estonia                                     1\n",
        "Ethiopia                                    1\n",
        "Finland                                     0\n",
        "France                                      0\n",
        "Germany                                     1\n",
        "Greece                                      0\n",
        "Hungary                                     0\n",
        "Iceland                                     0\n",
        "Ireland                                     0\n",
        "Italy                                       1\n",
        "Jamaica                                     1\n",
        "Japan                                       3\n",
        "Kazakhstan                                  1\n",
        "Kenya                                       0\n",
        "Latvia                                      0\n",
        "Lithuania                                   1\n",
        "Mexico                                      0\n",
        "Morocco                                     0\n",
        "Mozambique                                  0\n",
        "Netherlands                                 0\n",
        "Nigeria                                     0\n",
        "Norway                                      0\n",
        "Poland                                      0\n",
        "Portugal                                    0\n",
        "Romania                                     1\n",
        "Russia                                      0\n",
        "Saudi Arabia                                0\n",
        "Slovakia                                    0\n",
        "Slovenia                                    0\n",
        "South Africa                                4\n",
        "Spain                                       0\n",
        "Sri Lanka                                   0\n",
        "Sweden                                      2\n",
        "The Bahamas                                 0\n",
        "Trinidad and Tobago                         0\n",
        "Turkey                                      0\n",
        "Ukraine                                     0\n",
        "United Kingdom                              1\n",
        "United States                               5\n",
        "Zimbabwe                                    0\n",
        "Length: 58, dtype: int64"
       ]
      }
     ],
     "prompt_number": 6
    }
   ],
   "metadata": {}
  }
 ]
}