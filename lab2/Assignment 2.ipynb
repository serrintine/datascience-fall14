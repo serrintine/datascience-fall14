{
 "metadata": {
  "name": "Assignment 2"
 },
 "nbformat": 3,
 "nbformat_minor": 0,
 "worksheets": [
  {
   "cells": [
    {
     "cell_type": "code",
     "collapsed": false,
     "input": "import pandas as pd\nimport numpy as np\nimport matplotlib.pyplot as plt\n%pylab inline",
     "language": "python",
     "metadata": {},
     "outputs": [
      {
       "output_type": "stream",
       "stream": "stdout",
       "text": "Populating the interactive namespace from numpy and matplotlib\n"
      }
     ],
     "prompt_number": 1
    },
    {
     "cell_type": "code",
     "collapsed": false,
     "input": "players = pd.read_csv('players.csv')\ncountries = pd.read_csv('countries.csv')\nevents = pd.read_csv('events.csv')",
     "language": "python",
     "metadata": {},
     "outputs": [],
     "prompt_number": 2
    },
    {
     "cell_type": "code",
     "collapsed": false,
     "input": "players['name'].str.extract('(^[AEOIU])').count()",
     "language": "python",
     "metadata": {},
     "outputs": [
      {
       "metadata": {},
       "output_type": "pyout",
       "prompt_number": 3,
       "text": "84"
      }
     ],
     "prompt_number": 3
    },
    {
     "cell_type": "code",
     "collapsed": false,
     "input": "join = pd.merge(players, countries, on='country_id')\nusa = join[join['country_id']=='USA']\nnames = usa[usa['name_x'].str.contains('^A')]\nnames['name_x']",
     "language": "python",
     "metadata": {},
     "outputs": [
      {
       "metadata": {},
       "output_type": "pyout",
       "prompt_number": 4,
       "text": "12    Aaron Peirsol                           \n13    Adam Nelson                             \n14    Allyson Felix                           \n15    Alvin Harrison                          \n16    Amanda Beard                            \n17    Amanda Weir                             \n18    Amy van Dyken                           \n19    Angelo Taylor                           \n20    Anthony Ervin                           \n21    Antonio Pettigrew                       \nName: name_x, dtype: object"
      }
     ],
     "prompt_number": 4
    },
    {
     "cell_type": "code",
     "collapsed": false,
     "input": "join.groupby('name_y')['name_x'].size()",
     "language": "python",
     "metadata": {},
     "outputs": [
      {
       "metadata": {},
       "output_type": "pyout",
       "prompt_number": 5,
       "text": "name_y\nAlgeria                                      4\nArgentina                                    1\nAustralia                                   34\nAustria                                      2\nBarbados                                     1\nBelarus                                      7\nBrazil                                       9\nBulgaria                                     1\nCameroon                                     1\nCanada                                       1\nChina                                        8\nCosta Rica                                   1\nCroatia                                      1\nCuba                                        12\nCzech Republic                               3\nDenmark                                      2\nDominican Republic                           1\nEritrea                                      1\nEstonia                                      2\nEthiopia                                    12\nFinland                                      1\nFrance                                      10\nGermany                                     22\nGreece                                       7\nHungary                                      4\nIceland                                      1\nIreland                                      1\nItaly                                       12\nJamaica                                     18\nJapan                                       16\nKazakhstan                                   2\nKenya                                       13\nLatvia                                       2\nLithuania                                    2\nMexico                                       3\nMorocco                                      5\nMozambique                                   1\nNetherlands                                 13\nNigeria                                     12\nNorway                                       3\nPoland                                       5\nPortugal                                     3\nRomania                                     10\nRussia                                      38\nSaudi Arabia                                 1\nSlovakia                                     1\nSlovenia                                     1\nSouth Africa                                10\nSpain                                        4\nSri Lanka                                    1\nSweden                                       9\nThe Bahamas                                  5\nTrinidad and Tobago                          2\nTurkey                                       1\nUkraine                                      9\nUnited Kingdom                              12\nUnited States                               88\nZimbabwe                                     1\nLength: 58, dtype: int64"
      }
     ],
     "prompt_number": 5
    },
    {
     "cell_type": "code",
     "collapsed": false,
     "input": "players1975 = players[players['birthdate'].str.extract('(1975)')=='1975']\njoin = pd.merge(countries, players1975, how='outer', on='country_id')\njoin.groupby('name_x')['name_y'].count()",
     "language": "python",
     "metadata": {},
     "outputs": [
      {
       "metadata": {},
       "output_type": "pyout",
       "prompt_number": 6,
       "text": "name_x\nAlgeria                                     0\nArgentina                                   0\nAustralia                                   3\nAustria                                     0\nBarbados                                    0\nBelarus                                     1\nBrazil                                      1\nBulgaria                                    0\nCameroon                                    0\nCanada                                      0\nChina                                       0\nCosta Rica                                  0\nCroatia                                     0\nCuba                                        1\nCzech Republic                              1\nDenmark                                     1\nDominican Republic                          0\nEritrea                                     1\nEstonia                                     1\nEthiopia                                    1\nFinland                                     0\nFrance                                      0\nGermany                                     1\nGreece                                      0\nHungary                                     0\nIceland                                     0\nIreland                                     0\nItaly                                       1\nJamaica                                     1\nJapan                                       3\nKazakhstan                                  1\nKenya                                       0\nLatvia                                      0\nLithuania                                   1\nMexico                                      0\nMorocco                                     0\nMozambique                                  0\nNetherlands                                 0\nNigeria                                     0\nNorway                                      0\nPoland                                      0\nPortugal                                    0\nRomania                                     1\nRussia                                      0\nSaudi Arabia                                0\nSlovakia                                    0\nSlovenia                                    0\nSouth Africa                                4\nSpain                                       0\nSri Lanka                                   0\nSweden                                      2\nThe Bahamas                                 0\nTrinidad and Tobago                         0\nTurkey                                      0\nUkraine                                     0\nUnited Kingdom                              1\nUnited States                               5\nZimbabwe                                    0\nLength: 58, dtype: int64"
      }
     ],
     "prompt_number": 6
    }
   ],
   "metadata": {}
  }
 ]
}