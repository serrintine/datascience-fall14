{
 "metadata": {
  "name": ""
 },
 "nbformat": 3,
 "nbformat_minor": 0,
 "worksheets": [
  {
   "cells": [
    {
     "cell_type": "code",
     "collapsed": false,
     "input": [
      "# Import pandas and numpy\n",
      "import pandas as pd\n",
      "import numpy as np\n",
      "\n",
      "# Set some Pandas options\n",
      "pd.set_option('display.notebook_repr_html', False)\n",
      "pd.set_option('display.max_columns', 20)\n",
      "pd.set_option('display.max_rows', 25)"
     ],
     "language": "python",
     "metadata": {},
     "outputs": [],
     "prompt_number": 1
    },
    {
     "cell_type": "code",
     "collapsed": false,
     "input": [
      "cdystonia = pd.read_csv(\"data/cdystonia.csv\", index_col=None)\n",
      "cdystonia['twstrs'] = cdystonia['twstrs'].astype(np.float64)\n",
      "cdystonia.head()"
     ],
     "language": "python",
     "metadata": {},
     "outputs": [
      {
       "metadata": {},
       "output_type": "pyout",
       "prompt_number": 2,
       "text": [
        "   patient  obs  week  site  id  treat  age sex  twstrs\n",
        "0        1    1     0     1   1  5000U   65   F      32\n",
        "1        1    2     2     1   1  5000U   65   F      30\n",
        "2        1    3     4     1   1  5000U   65   F      24\n",
        "3        1    4     8     1   1  5000U   65   F      37\n",
        "4        1    5    12     1   1  5000U   65   F      39\n",
        "\n",
        "[5 rows x 9 columns]"
       ]
      }
     ],
     "prompt_number": 2
    },
    {
     "cell_type": "code",
     "collapsed": false,
     "input": [
      "treat_map = {'Placebo': 0, '5000U': 1, '10000U': 2}\n",
      "cdystonia['treatment'] = cdystonia['treat']\n",
      "cdystonia.replace({'treatment': treat_map})"
     ],
     "language": "python",
     "metadata": {},
     "outputs": [
      {
       "metadata": {},
       "output_type": "pyout",
       "prompt_number": 3,
       "text": [
        "    patient  obs  week  site  id    treat  age sex  twstrs  treatment\n",
        "0         1    1     0     1   1    5000U   65   F      32          1\n",
        "1         1    2     2     1   1    5000U   65   F      30          1\n",
        "2         1    3     4     1   1    5000U   65   F      24          1\n",
        "3         1    4     8     1   1    5000U   65   F      37          1\n",
        "4         1    5    12     1   1    5000U   65   F      39          1\n",
        "5         1    6    16     1   1    5000U   65   F      36          1\n",
        "6         2    1     0     1   2   10000U   70   F      60          2\n",
        "7         2    2     2     1   2   10000U   70   F      26          2\n",
        "8         2    3     4     1   2   10000U   70   F      27          2\n",
        "9         2    4     8     1   2   10000U   70   F      41          2\n",
        "10        2    5    12     1   2   10000U   70   F      65          2\n",
        "11        2    6    16     1   2   10000U   70   F      67          2\n",
        "12        3    1     0     1   3    5000U   64   F      44          1\n",
        "13        3    2     2     1   3    5000U   64   F      20          1\n",
        "14        3    3     4     1   3    5000U   64   F      23          1\n",
        "15        3    4     8     1   3    5000U   64   F      26          1\n",
        "16        3    5    12     1   3    5000U   64   F      35          1\n",
        "17        3    6    16     1   3    5000U   64   F      35          1\n",
        "18        4    1     0     1   4  Placebo   59   F      53          0\n",
        "19        4    2     2     1   4  Placebo   59   F      61          0\n",
        "20        4    3     4     1   4  Placebo   59   F      64          0\n",
        "21        4    4     8     1   4  Placebo   59   F      62          0\n",
        "22        5    1     0     1   5   10000U   76   F      53          2\n",
        "23        5    2     2     1   5   10000U   76   F      35          2\n",
        "24        5    3     4     1   5   10000U   76   F      48          2\n",
        "        ...  ...   ...   ... ...      ...  ... ...     ...        ...\n",
        "\n",
        "[631 rows x 10 columns]"
       ]
      }
     ],
     "prompt_number": 3
    },
    {
     "cell_type": "code",
     "collapsed": false,
     "input": [
      "cutOutput = pd.cut(cdystonia.age, [20,40,60,80,90])\n",
      "cutOutput[:30]"
     ],
     "language": "python",
     "metadata": {},
     "outputs": [
      {
       "metadata": {},
       "output_type": "pyout",
       "prompt_number": 4,
       "text": [
        " (60, 80]\n",
        " (60, 80]\n",
        " (60, 80]\n",
        " (60, 80]\n",
        " (60, 80]\n",
        " (60, 80]\n",
        " (60, 80]\n",
        " (60, 80]\n",
        " (60, 80]\n",
        " (60, 80]\n",
        "...\n",
        " (40, 60]\n",
        " (40, 60]\n",
        " (40, 60]\n",
        " (60, 80]\n",
        " (60, 80]\n",
        " (60, 80]\n",
        " (60, 80]\n",
        " (60, 80]\n",
        " (60, 80]\n",
        " (40, 60]\n",
        " (40, 60]\n",
        "Levels (4): Index(['(20, 40]', '(40, 60]', '(60, 80]', '(80, 90]'], dtype=object)\n",
        "Length: 30"
       ]
      }
     ],
     "prompt_number": 4
    },
    {
     "cell_type": "code",
     "collapsed": false,
     "input": [
      "labels = ['young', 'middle-aged', 'old', 'ancient']\n",
      "cdystonia['ageGroup'] = pd.cut(cdystonia.age, [20,40,60,80,90], labels=labels)\n",
      "cdystonia.head()"
     ],
     "language": "python",
     "metadata": {},
     "outputs": [
      {
       "metadata": {},
       "output_type": "pyout",
       "prompt_number": 5,
       "text": [
        "   patient  obs  week  site  id  treat  age sex  twstrs treatment ageGroup\n",
        "0        1    1     0     1   1  5000U   65   F      32     5000U      old\n",
        "1        1    2     2     1   1  5000U   65   F      30     5000U      old\n",
        "2        1    3     4     1   1  5000U   65   F      24     5000U      old\n",
        "3        1    4     8     1   1  5000U   65   F      37     5000U      old\n",
        "4        1    5    12     1   1  5000U   65   F      39     5000U      old\n",
        "\n",
        "[5 rows x 11 columns]"
       ]
      }
     ],
     "prompt_number": 5
    },
    {
     "cell_type": "code",
     "collapsed": false,
     "input": [
      "cdystonia_group = cdystonia.groupby('patient')"
     ],
     "language": "python",
     "metadata": {},
     "outputs": [],
     "prompt_number": 6
    },
    {
     "cell_type": "code",
     "collapsed": false,
     "input": [
      "patientMeanTwstrs = cdystonia_group.twstrs.agg(np.mean)\n",
      "patientMeanTwstrs.head()"
     ],
     "language": "python",
     "metadata": {},
     "outputs": [
      {
       "metadata": {},
       "output_type": "pyout",
       "prompt_number": 7,
       "text": [
        "patient\n",
        "1          33.000000\n",
        "2          47.666667\n",
        "3          30.500000\n",
        "4          60.000000\n",
        "5          46.166667\n",
        "Name: twstrs, dtype: float64"
       ]
      }
     ],
     "prompt_number": 7
    },
    {
     "cell_type": "code",
     "collapsed": false,
     "input": [
      "normalizedTWSTRS = cdystonia_group.twstrs.apply(lambda x: (x - x.mean()) / x.std())\n",
      "normalizedTWSTRS.head()"
     ],
     "language": "python",
     "metadata": {},
     "outputs": [
      {
       "metadata": {},
       "output_type": "pyout",
       "prompt_number": 8,
       "text": [
        "0   -0.181369\n",
        "1   -0.544107\n",
        "2   -1.632322\n",
        "3    0.725476\n",
        "4    1.088214\n",
        "dtype: float64"
       ]
      }
     ],
     "prompt_number": 8
    }
   ],
   "metadata": {}
  }
 ]
}